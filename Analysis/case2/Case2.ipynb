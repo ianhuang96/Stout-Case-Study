{
 "cells": [
  {
   "cell_type": "code",
   "execution_count": 1,
   "metadata": {},
   "outputs": [],
   "source": [
    "import pandas as pd\n",
    "import numpy as np\n",
    "from collections import Counter\n",
    "import warnings\n",
    "warnings.filterwarnings('ignore')"
   ]
  },
  {
   "cell_type": "code",
   "execution_count": 2,
   "metadata": {},
   "outputs": [],
   "source": [
    "data = pd.read_csv('casestudy.csv')"
   ]
  },
  {
   "cell_type": "code",
   "execution_count": 3,
   "metadata": {},
   "outputs": [
    {
     "data": {
      "text/html": [
       "<div>\n",
       "<style scoped>\n",
       "    .dataframe tbody tr th:only-of-type {\n",
       "        vertical-align: middle;\n",
       "    }\n",
       "\n",
       "    .dataframe tbody tr th {\n",
       "        vertical-align: top;\n",
       "    }\n",
       "\n",
       "    .dataframe thead th {\n",
       "        text-align: right;\n",
       "    }\n",
       "</style>\n",
       "<table border=\"1\" class=\"dataframe\">\n",
       "  <thead>\n",
       "    <tr style=\"text-align: right;\">\n",
       "      <th></th>\n",
       "      <th>Unnamed: 0</th>\n",
       "      <th>customer_email</th>\n",
       "      <th>net_revenue</th>\n",
       "      <th>year</th>\n",
       "    </tr>\n",
       "  </thead>\n",
       "  <tbody>\n",
       "    <tr>\n",
       "      <th>0</th>\n",
       "      <td>0</td>\n",
       "      <td>nhknapwsbx@gmail.com</td>\n",
       "      <td>249.92</td>\n",
       "      <td>2015</td>\n",
       "    </tr>\n",
       "    <tr>\n",
       "      <th>1</th>\n",
       "      <td>1</td>\n",
       "      <td>joiuzbvcpn@gmail.com</td>\n",
       "      <td>87.61</td>\n",
       "      <td>2015</td>\n",
       "    </tr>\n",
       "    <tr>\n",
       "      <th>2</th>\n",
       "      <td>2</td>\n",
       "      <td>ukkjctepxt@gmail.com</td>\n",
       "      <td>168.38</td>\n",
       "      <td>2015</td>\n",
       "    </tr>\n",
       "    <tr>\n",
       "      <th>3</th>\n",
       "      <td>3</td>\n",
       "      <td>gykatilzrt@gmail.com</td>\n",
       "      <td>62.40</td>\n",
       "      <td>2015</td>\n",
       "    </tr>\n",
       "    <tr>\n",
       "      <th>4</th>\n",
       "      <td>4</td>\n",
       "      <td>mmsgsrtxah@gmail.com</td>\n",
       "      <td>43.08</td>\n",
       "      <td>2015</td>\n",
       "    </tr>\n",
       "    <tr>\n",
       "      <th>5</th>\n",
       "      <td>5</td>\n",
       "      <td>mobvusnzfr@gmail.com</td>\n",
       "      <td>39.44</td>\n",
       "      <td>2015</td>\n",
       "    </tr>\n",
       "    <tr>\n",
       "      <th>6</th>\n",
       "      <td>6</td>\n",
       "      <td>kxwkqvacsv@gmail.com</td>\n",
       "      <td>171.46</td>\n",
       "      <td>2015</td>\n",
       "    </tr>\n",
       "    <tr>\n",
       "      <th>7</th>\n",
       "      <td>7</td>\n",
       "      <td>iqmnugdcjs@gmail.com</td>\n",
       "      <td>111.99</td>\n",
       "      <td>2015</td>\n",
       "    </tr>\n",
       "    <tr>\n",
       "      <th>8</th>\n",
       "      <td>8</td>\n",
       "      <td>baiikostmd@gmail.com</td>\n",
       "      <td>170.70</td>\n",
       "      <td>2015</td>\n",
       "    </tr>\n",
       "    <tr>\n",
       "      <th>9</th>\n",
       "      <td>9</td>\n",
       "      <td>lfeafnigbu@gmail.com</td>\n",
       "      <td>54.99</td>\n",
       "      <td>2015</td>\n",
       "    </tr>\n",
       "  </tbody>\n",
       "</table>\n",
       "</div>"
      ],
      "text/plain": [
       "   Unnamed: 0         customer_email  net_revenue  year\n",
       "0           0   nhknapwsbx@gmail.com       249.92  2015\n",
       "1           1   joiuzbvcpn@gmail.com        87.61  2015\n",
       "2           2   ukkjctepxt@gmail.com       168.38  2015\n",
       "3           3   gykatilzrt@gmail.com        62.40  2015\n",
       "4           4   mmsgsrtxah@gmail.com        43.08  2015\n",
       "5           5   mobvusnzfr@gmail.com        39.44  2015\n",
       "6           6   kxwkqvacsv@gmail.com       171.46  2015\n",
       "7           7   iqmnugdcjs@gmail.com       111.99  2015\n",
       "8           8   baiikostmd@gmail.com       170.70  2015\n",
       "9           9   lfeafnigbu@gmail.com        54.99  2015"
      ]
     },
     "execution_count": 3,
     "metadata": {},
     "output_type": "execute_result"
    }
   ],
   "source": [
    "# preview data\n",
    "data.head(10)"
   ]
  },
  {
   "cell_type": "markdown",
   "metadata": {},
   "source": [
    "## For each year we need the following information:<br>\n",
    "•\tTotal revenue for the current year<br>\n",
    "•\tNew Customer Revenue e.g. new customers not present in previous year only<br>\n",
    "•\tExisting Customer Growth. To calculate this, use the Revenue of existing customers for current year –(minus) Revenue of existing customers from the previous year<br>\n",
    "•\tRevenue lost from attrition<br>\n",
    "•\tExisting Customer Revenue Current Year<br>\n",
    "•\tExisting Customer Revenue Prior Year<br>\n",
    "•\tTotal Customers Current Year<br>\n",
    "•\tTotal Customers Previous Year<br>\n",
    "•\tNew Customers<br>\n",
    "•\tLost Customers<br>\n"
   ]
  },
  {
   "cell_type": "code",
   "execution_count": 4,
   "metadata": {},
   "outputs": [
    {
     "name": "stdout",
     "output_type": "stream",
     "text": [
      "Data in 2015 has no duplicates\n",
      "Data in 2016 has no duplicates\n",
      "Data in 2017 has no duplicates\n"
     ]
    }
   ],
   "source": [
    "# split data by year and check duplicates\n",
    "data_2015 = data[data['year']==2015]\n",
    "if len(data_2015['customer_email']) == len(set(data_2015['customer_email'])):\n",
    "    print(\"Data in 2015 has no duplicates\")\n",
    "data_2016 = data[data['year']==2016]\n",
    "if len(data_2016['customer_email']) == len(set(data_2016['customer_email'])):\n",
    "    print(\"Data in 2016 has no duplicates\")\n",
    "data_2017 = data[data['year']==2017]\n",
    "if len(data_2017['customer_email']) == len(set(data_2017['customer_email'])):\n",
    "    print(\"Data in 2017 has no duplicates\")"
   ]
  },
  {
   "cell_type": "markdown",
   "metadata": {},
   "source": [
    "# Total revenue for the current year"
   ]
  },
  {
   "cell_type": "code",
   "execution_count": 5,
   "metadata": {
    "scrolled": true
   },
   "outputs": [
    {
     "name": "stdout",
     "output_type": "stream",
     "text": [
      "Total Revenue in 2015: 29036749.189999994\n",
      "Total Revenue in 2016: 25730943.59\n",
      "Total Revenue in 2017: 31417495.030000016\n"
     ]
    }
   ],
   "source": [
    "total_revenue_2015 = np.sum(data_2015['net_revenue'])\n",
    "print('Total Revenue in '+str(2015)+': '+str(total_revenue_2015))\n",
    "\n",
    "total_revenue_2016 = np.sum(data_2016['net_revenue'])\n",
    "print('Total Revenue in '+str(2016)+': '+str(total_revenue_2016))\n",
    "\n",
    "total_revenue_2017 = np.sum(data_2017['net_revenue'])\n",
    "print('Total Revenue in '+str(2017)+': '+str(total_revenue_2017))"
   ]
  },
  {
   "cell_type": "markdown",
   "metadata": {},
   "source": [
    "# New Customer Revenue e.g. new customers not present in previous year only"
   ]
  },
  {
   "cell_type": "code",
   "execution_count": 6,
   "metadata": {},
   "outputs": [
    {
     "name": "stdout",
     "output_type": "stream",
     "text": [
      "New Customer Revenue in 2016: 18245491.01\n",
      "New Customer Revenue in 2017: 28776235.039999995\n"
     ]
    }
   ],
   "source": [
    "# 2015 has no previous data\n",
    "# split data by year\n",
    "data_2015 = data[data['year']==2015]\n",
    "data_2016 = data[data['year']==2016]\n",
    "data_2017 = data[data['year']==2017]\n",
    "\n",
    "df_new_customer_2016 = pd.merge(data_2015, data_2016, how='right', on=['customer_email'], indicator=True)\n",
    "df_new_customer_2016 = df_new_customer_2016[df_new_customer_2016['_merge']=='right_only']\n",
    "new_customer_revenue_2016 = np.sum(df_new_customer_2016['net_revenue_y'])\n",
    "print('New Customer Revenue in '+str(2016)+': '+str(new_customer_revenue_2016))\n",
    "      \n",
    "df_new_customer_2017 = pd.merge(data_2016, data_2017, how='right', on=['customer_email'], indicator=True)\n",
    "df_new_customer_2017 = df_new_customer_2017[df_new_customer_2017['_merge']=='right_only']\n",
    "new_customer_revenue_2017 = np.sum(df_new_customer_2017['net_revenue_y'])\n",
    "print('New Customer Revenue in '+str(2017)+': '+str(new_customer_revenue_2017))"
   ]
  },
  {
   "cell_type": "markdown",
   "metadata": {},
   "source": [
    "# Existing Customer Growth"
   ]
  },
  {
   "cell_type": "code",
   "execution_count": 7,
   "metadata": {},
   "outputs": [
    {
     "name": "stdout",
     "output_type": "stream",
     "text": [
      "Existing Customer Growth in 2016: 20335.459999999963\n",
      "Existing Customer Growth in 2017: 20611.340000000317\n"
     ]
    }
   ],
   "source": [
    "# 2015 has no previous data\n",
    "df_existing_customer_2016 = pd.merge(data_2015, data_2016, how='right', on=['customer_email'], indicator=True)\n",
    "df_existing_customer_2016 = df_existing_customer_2016[df_existing_customer_2016['_merge']=='both']\n",
    "existing_customer_growth_2016 = np.sum(df_existing_customer_2016['net_revenue_y']) - np.sum(df_existing_customer_2016['net_revenue_x'])\n",
    "print('Existing Customer Growth in '+str(2016)+': '+str(existing_customer_growth_2016))\n",
    "\n",
    "df_existing_customer_2017 = pd.merge(data_2016, data_2017, how='right', on=['customer_email'], indicator=True)\n",
    "df_existing_customer_2017 = df_existing_customer_2017[df_existing_customer_2017['_merge']=='both']\n",
    "existing_customer_growth_2017 = np.sum(df_existing_customer_2017['net_revenue_y']) - np.sum(df_existing_customer_2017['net_revenue_x'])\n",
    "print('Existing Customer Growth in '+str(2017)+': '+str(existing_customer_growth_2017))"
   ]
  },
  {
   "cell_type": "markdown",
   "metadata": {},
   "source": [
    "# Revenue lost from attrition"
   ]
  },
  {
   "cell_type": "code",
   "execution_count": 8,
   "metadata": {},
   "outputs": [
    {
     "name": "stdout",
     "output_type": "stream",
     "text": [
      "Revenue lost from attrition in 2016: 21571632.070000004\n",
      "Revenue lost from attrition in 2017: 23110294.939999998\n"
     ]
    }
   ],
   "source": [
    "# 2015 has no previous data\n",
    "df_lost_customer_2016 = pd.merge(data_2015, data_2016, how='left', on=['customer_email'], indicator=True)\n",
    "df_lost_customer_2016 = df_lost_customer_2016[df_lost_customer_2016['_merge']=='left_only']\n",
    "revenue_lost_2016 = np.sum(df_lost_customer_2016['net_revenue_x'])\n",
    "print('Revenue lost from attrition in '+str(2016)+': '+str(revenue_lost_2016))\n",
    "\n",
    "df_lost_customer_2017 = pd.merge(data_2016, data_2017, how='left', on=['customer_email'], indicator=True)\n",
    "df_lost_customer_2017 = df_lost_customer_2017[df_lost_customer_2017['_merge']=='left_only']\n",
    "revenue_lost_2017 = np.sum(df_lost_customer_2017['net_revenue_x'])\n",
    "print('Revenue lost from attrition in '+str(2017)+': '+str(revenue_lost_2017))"
   ]
  },
  {
   "cell_type": "markdown",
   "metadata": {},
   "source": [
    "# Existing Customer Revenue Current Year"
   ]
  },
  {
   "cell_type": "code",
   "execution_count": 9,
   "metadata": {},
   "outputs": [
    {
     "name": "stdout",
     "output_type": "stream",
     "text": [
      "Existing Customer Revenue in 2016: 7485452.58\n",
      "Existing Customer Revenue in 2017: 2641259.99\n"
     ]
    }
   ],
   "source": [
    "# 2015 has no previous data\n",
    "existing_customer_revenue_2016 = np.sum(df_existing_customer_2016['net_revenue_y'])\n",
    "print('Existing Customer Revenue in '+str(2016)+': '+str(existing_customer_revenue_2016))\n",
    "\n",
    "existing_customer_revenue_2017 = np.sum(df_existing_customer_2017['net_revenue_y'])\n",
    "print('Existing Customer Revenue in '+str(2017)+': '+str(existing_customer_revenue_2017))"
   ]
  },
  {
   "cell_type": "markdown",
   "metadata": {},
   "source": [
    "# Existing Customer Revenue Prior Year"
   ]
  },
  {
   "cell_type": "code",
   "execution_count": 10,
   "metadata": {},
   "outputs": [
    {
     "name": "stdout",
     "output_type": "stream",
     "text": [
      "Existing Customer Revenue in 2016: 7465117.12\n",
      "Existing Customer Revenue in 2017: 2620648.65\n"
     ]
    }
   ],
   "source": [
    "# 2015 has no previous data\n",
    "existing_customer_revenue_2016 = np.sum(df_existing_customer_2016['net_revenue_x'])\n",
    "print('Existing Customer Revenue in '+str(2016)+': '+str(existing_customer_revenue_2016))\n",
    "\n",
    "existing_customer_revenue_2017 = np.sum(df_existing_customer_2017['net_revenue_x'])\n",
    "print('Existing Customer Revenue in '+str(2017)+': '+str(existing_customer_revenue_2017))"
   ]
  },
  {
   "cell_type": "markdown",
   "metadata": {},
   "source": [
    "# Total Customers Current Year"
   ]
  },
  {
   "cell_type": "code",
   "execution_count": 11,
   "metadata": {},
   "outputs": [
    {
     "name": "stdout",
     "output_type": "stream",
     "text": [
      "Total Customers in 2015: 231294\n",
      "Total Customers in 2016: 204646\n",
      "Total Customers in 2017: 249987\n"
     ]
    }
   ],
   "source": [
    "# Since we checked that there is no duplicate data in each year, we can just calculate the length of each sub-dataset\n",
    "total_customers_2015 = len(data_2015)\n",
    "print('Total Customers in '+str(2015)+': '+str(total_customers_2015))\n",
    "\n",
    "total_customers_2016 = len(data_2016)\n",
    "print('Total Customers in '+str(2016)+': '+str(total_customers_2016))\n",
    "\n",
    "total_customers_2017 = len(data_2017)\n",
    "print('Total Customers in '+str(2017)+': '+str(total_customers_2017))"
   ]
  },
  {
   "cell_type": "markdown",
   "metadata": {},
   "source": [
    "# Total Customers Previous Year"
   ]
  },
  {
   "cell_type": "code",
   "execution_count": 12,
   "metadata": {},
   "outputs": [
    {
     "name": "stdout",
     "output_type": "stream",
     "text": [
      "Total Customers in Previous Year(2016): 231294\n",
      "Total Customers in Previous Year(2017): 204646\n"
     ]
    }
   ],
   "source": [
    "# 2015 has no previous data\n",
    "print('Total Customers in Previous Year('+str(2016)+'): '+str(total_customers_2015))\n",
    "\n",
    "print('Total Customers in Previous Year('+str(2017)+'): '+str(total_customers_2016))"
   ]
  },
  {
   "cell_type": "markdown",
   "metadata": {},
   "source": [
    "# New Customers"
   ]
  },
  {
   "cell_type": "code",
   "execution_count": 13,
   "metadata": {},
   "outputs": [
    {
     "name": "stdout",
     "output_type": "stream",
     "text": [
      "New Customers in 2016: 145062\n",
      "New Customers in 2017: 229028\n"
     ]
    }
   ],
   "source": [
    "# 2015 has no previous data\n",
    "new_customers_2016 = len(df_new_customer_2016)\n",
    "print('New Customers in '+str(2016)+': '+str(new_customers_2016))\n",
    "\n",
    "new_customers_2017 = len(df_new_customer_2017)\n",
    "print('New Customers in '+str(2017)+': '+str(new_customers_2017))"
   ]
  },
  {
   "cell_type": "markdown",
   "metadata": {},
   "source": [
    "# Lost Customers"
   ]
  },
  {
   "cell_type": "code",
   "execution_count": 14,
   "metadata": {},
   "outputs": [
    {
     "name": "stdout",
     "output_type": "stream",
     "text": [
      "Lost Customers in 2016: 171710\n",
      "Lost Customers in 2017: 183687\n"
     ]
    }
   ],
   "source": [
    "# 2015 has no previous data\n",
    "lost_customers_2016 = len(df_lost_customer_2016)\n",
    "print('Lost Customers in '+str(2016)+': '+str(lost_customers_2016))\n",
    "\n",
    "lost_customers_2017 = len(df_lost_customer_2017)\n",
    "print('Lost Customers in '+str(2017)+': '+str(lost_customers_2017))"
   ]
  },
  {
   "cell_type": "code",
   "execution_count": null,
   "metadata": {},
   "outputs": [],
   "source": []
  }
 ],
 "metadata": {
  "kernelspec": {
   "display_name": "Python 3",
   "language": "python",
   "name": "python3"
  },
  "language_info": {
   "codemirror_mode": {
    "name": "ipython",
    "version": 3
   },
   "file_extension": ".py",
   "mimetype": "text/x-python",
   "name": "python",
   "nbconvert_exporter": "python",
   "pygments_lexer": "ipython3",
   "version": "3.7.4"
  }
 },
 "nbformat": 4,
 "nbformat_minor": 2
}
